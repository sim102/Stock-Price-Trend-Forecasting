{
 "cells": [
  {
   "cell_type": "code",
   "execution_count": 3,
   "metadata": {
    "scrolled": true
   },
   "outputs": [],
   "source": [
    "import numpy as np\n",
    "import matplotlib.pyplot as plt\n",
    "import pandas as pd\n",
    "import tensorflow as tf\n",
    "from tensorflow import keras"
   ]
  },
  {
   "cell_type": "code",
   "execution_count": 2,
   "metadata": {},
   "outputs": [
    {
     "name": "stdout",
     "output_type": "stream",
     "text": [
      "Collecting tensorflowNote: you may need to restart the kernel to use updated packages.\n",
      "\n",
      "  Downloading tensorflow-2.6.0-cp38-cp38-win_amd64.whl (423.2 MB)\n",
      "Collecting wrapt~=1.12.1\n",
      "  Using cached wrapt-1.12.1.tar.gz (27 kB)\n",
      "Collecting grpcio<2.0,>=1.37.0\n",
      "  Downloading grpcio-1.39.0-cp38-cp38-win_amd64.whl (3.2 MB)\n",
      "Collecting h5py~=3.1.0\n",
      "  Downloading h5py-3.1.0-cp38-cp38-win_amd64.whl (2.7 MB)\n",
      "Collecting astunparse~=1.6.3\n",
      "  Using cached astunparse-1.6.3-py2.py3-none-any.whl (12 kB)\n",
      "Requirement already satisfied: six~=1.15.0 in c:\\users\\abc\\anaconda3\\lib\\site-packages (from tensorflow) (1.15.0)\n",
      "Collecting protobuf>=3.9.2\n",
      "  Downloading protobuf-3.17.3-cp38-cp38-win_amd64.whl (909 kB)\n",
      "Collecting tensorflow-estimator~=2.6\n",
      "  Downloading tensorflow_estimator-2.6.0-py2.py3-none-any.whl (462 kB)\n",
      "Collecting keras-preprocessing~=1.1.2\n",
      "  Using cached Keras_Preprocessing-1.1.2-py2.py3-none-any.whl (42 kB)\n",
      "Requirement already satisfied: wheel~=0.35 in c:\\users\\abc\\anaconda3\\lib\\site-packages (from tensorflow) (0.35.1)\n",
      "Collecting termcolor~=1.1.0\n",
      "  Using cached termcolor-1.1.0.tar.gz (3.9 kB)\n",
      "Requirement already satisfied: numpy~=1.19.2 in c:\\users\\abc\\anaconda3\\lib\\site-packages (from tensorflow) (1.19.2)\n",
      "Requirement already satisfied: typing-extensions~=3.7.4 in c:\\users\\abc\\anaconda3\\lib\\site-packages (from tensorflow) (3.7.4.3)\n",
      "Collecting keras~=2.6\n",
      "  Downloading keras-2.6.0-py2.py3-none-any.whl (1.3 MB)\n",
      "Collecting google-pasta~=0.2\n",
      "  Using cached google_pasta-0.2.0-py3-none-any.whl (57 kB)\n",
      "Collecting opt-einsum~=3.3.0\n",
      "  Using cached opt_einsum-3.3.0-py3-none-any.whl (65 kB)\n",
      "Collecting absl-py~=0.10\n",
      "  Downloading absl_py-0.13.0-py3-none-any.whl (132 kB)\n",
      "Collecting flatbuffers~=1.12.0\n",
      "  Using cached flatbuffers-1.12-py2.py3-none-any.whl (15 kB)\n",
      "Collecting clang~=5.0\n",
      "  Downloading clang-5.0.tar.gz (30 kB)\n",
      "Collecting tensorboard~=2.6\n",
      "  Downloading tensorboard-2.6.0-py3-none-any.whl (5.6 MB)\n",
      "Collecting gast==0.4.0\n",
      "  Downloading gast-0.4.0-py3-none-any.whl (9.8 kB)\n",
      "Collecting tensorboard-data-server<0.7.0,>=0.6.0\n",
      "  Downloading tensorboard_data_server-0.6.1-py3-none-any.whl (2.4 kB)\n",
      "Requirement already satisfied: werkzeug>=0.11.15 in c:\\users\\abc\\anaconda3\\lib\\site-packages (from tensorboard~=2.6->tensorflow) (1.0.1)\n",
      "Collecting tensorboard-plugin-wit>=1.6.0\n",
      "  Using cached tensorboard_plugin_wit-1.8.0-py3-none-any.whl (781 kB)\n",
      "Collecting google-auth-oauthlib<0.5,>=0.4.1\n",
      "  Downloading google_auth_oauthlib-0.4.5-py2.py3-none-any.whl (18 kB)\n",
      "Collecting google-auth<2,>=1.6.3\n",
      "  Downloading google_auth-1.35.0-py2.py3-none-any.whl (152 kB)\n",
      "Requirement already satisfied: setuptools>=41.0.0 in c:\\users\\abc\\anaconda3\\lib\\site-packages (from tensorboard~=2.6->tensorflow) (50.3.1.post20201107)\n",
      "Collecting markdown>=2.6.8\n",
      "  Using cached Markdown-3.3.4-py3-none-any.whl (97 kB)\n",
      "Requirement already satisfied: requests<3,>=2.21.0 in c:\\users\\abc\\anaconda3\\lib\\site-packages (from tensorboard~=2.6->tensorflow) (2.24.0)\n",
      "Collecting requests-oauthlib>=0.7.0\n",
      "  Using cached requests_oauthlib-1.3.0-py2.py3-none-any.whl (23 kB)\n",
      "Collecting rsa<5,>=3.1.4; python_version >= \"3.6\"\n",
      "  Using cached rsa-4.7.2-py3-none-any.whl (34 kB)\n",
      "Collecting cachetools<5.0,>=2.0.0\n",
      "  Downloading cachetools-4.2.2-py3-none-any.whl (11 kB)\n",
      "Collecting pyasn1-modules>=0.2.1\n",
      "  Using cached pyasn1_modules-0.2.8-py2.py3-none-any.whl (155 kB)\n",
      "Requirement already satisfied: idna<3,>=2.5 in c:\\users\\abc\\anaconda3\\lib\\site-packages (from requests<3,>=2.21.0->tensorboard~=2.6->tensorflow) (2.10)\n",
      "Requirement already satisfied: certifi>=2017.4.17 in c:\\users\\abc\\anaconda3\\lib\\site-packages (from requests<3,>=2.21.0->tensorboard~=2.6->tensorflow) (2020.6.20)\n",
      "Requirement already satisfied: urllib3!=1.25.0,!=1.25.1,<1.26,>=1.21.1 in c:\\users\\abc\\anaconda3\\lib\\site-packages (from requests<3,>=2.21.0->tensorboard~=2.6->tensorflow) (1.25.11)\n",
      "Requirement already satisfied: chardet<4,>=3.0.2 in c:\\users\\abc\\anaconda3\\lib\\site-packages (from requests<3,>=2.21.0->tensorboard~=2.6->tensorflow) (3.0.4)\n",
      "Collecting oauthlib>=3.0.0\n",
      "  Downloading oauthlib-3.1.1-py2.py3-none-any.whl (146 kB)\n",
      "Collecting pyasn1>=0.1.3\n",
      "  Using cached pyasn1-0.4.8-py2.py3-none-any.whl (77 kB)\n",
      "Building wheels for collected packages: wrapt, termcolor, clang\n",
      "  Building wheel for wrapt (setup.py): started\n",
      "  Building wheel for wrapt (setup.py): finished with status 'done'\n",
      "  Created wheel for wrapt: filename=wrapt-1.12.1-py3-none-any.whl size=19558 sha256=39985ed086bd5b7e2271b84b6c8396fa6f53fb1a38a1b03e19140208fa45f767\n",
      "  Stored in directory: c:\\users\\abc\\appdata\\local\\pip\\cache\\wheels\\5f\\fd\\9e\\b6cf5890494cb8ef0b5eaff72e5d55a70fb56316007d6dfe73\n",
      "  Building wheel for termcolor (setup.py): started\n",
      "  Building wheel for termcolor (setup.py): finished with status 'done'\n",
      "  Created wheel for termcolor: filename=termcolor-1.1.0-py3-none-any.whl size=4835 sha256=f1c781dcfae9cb8f12262156d6e7d6cc35750fffdd3bea39e6f01168c9960542\n",
      "  Stored in directory: c:\\users\\abc\\appdata\\local\\pip\\cache\\wheels\\a0\\16\\9c\\5473df82468f958445479c59e784896fa24f4a5fc024b0f501\n",
      "  Building wheel for clang (setup.py): started\n",
      "  Building wheel for clang (setup.py): finished with status 'done'\n",
      "  Created wheel for clang: filename=clang-5.0-py3-none-any.whl size=30710 sha256=d9924f8a1996cf38ee9f7e59070ce9adf0a60d629d4987b48d5a1342c1dceb9c\n",
      "  Stored in directory: c:\\users\\abc\\appdata\\local\\pip\\cache\\wheels\\f1\\60\\77\\22b9b5887bd47801796a856f47650d9789c74dc3161a26d608\n",
      "Successfully built wrapt termcolor clang\n",
      "Installing collected packages: wrapt, grpcio, h5py, astunparse, protobuf, tensorflow-estimator, keras-preprocessing, termcolor, keras, google-pasta, opt-einsum, absl-py, flatbuffers, clang, tensorboard-data-server, tensorboard-plugin-wit, pyasn1, rsa, cachetools, pyasn1-modules, google-auth, oauthlib, requests-oauthlib, google-auth-oauthlib, markdown, tensorboard, gast, tensorflow\n",
      "  Attempting uninstall: wrapt\n",
      "    Found existing installation: wrapt 1.11.2\n",
      "    Uninstalling wrapt-1.11.2:\n",
      "      Successfully uninstalled wrapt-1.11.2\n",
      "  Attempting uninstall: h5py\n",
      "    Found existing installation: h5py 2.10.0\n",
      "    Uninstalling h5py-2.10.0:\n",
      "      Successfully uninstalled h5py-2.10.0\n",
      "Successfully installed absl-py-0.13.0 astunparse-1.6.3 cachetools-4.2.2 clang-5.0 flatbuffers-1.12 gast-0.4.0 google-auth-1.35.0 google-auth-oauthlib-0.4.5 google-pasta-0.2.0 grpcio-1.39.0 h5py-3.1.0 keras-2.6.0 keras-preprocessing-1.1.2 markdown-3.3.4 oauthlib-3.1.1 opt-einsum-3.3.0 protobuf-3.17.3 pyasn1-0.4.8 pyasn1-modules-0.2.8 requests-oauthlib-1.3.0 rsa-4.7.2 tensorboard-2.6.0 tensorboard-data-server-0.6.1 tensorboard-plugin-wit-1.8.0 tensorflow-2.6.0 tensorflow-estimator-2.6.0 termcolor-1.1.0 wrapt-1.12.1\n"
     ]
    }
   ],
   "source": []
  },
  {
   "cell_type": "code",
   "execution_count": null,
   "metadata": {},
   "outputs": [],
   "source": [
    "### Data Processing"
   ]
  },
  {
   "cell_type": "code",
   "execution_count": 5,
   "metadata": {},
   "outputs": [],
   "source": [
    "dataset_train = pd.read_csv('Google_Stock_Price_Train.csv')\n",
    "training_set = dataset_train.iloc[:,1:2].values\n"
   ]
  },
  {
   "cell_type": "code",
   "execution_count": 6,
   "metadata": {},
   "outputs": [],
   "source": [
    "# feature scaling\n",
    "from sklearn.preprocessing import MinMaxScaler\n",
    "sc = MinMaxScaler(feature_range = (0,1))\n",
    "training_set_scaled = sc.fit_transform(training_set)"
   ]
  },
  {
   "cell_type": "code",
   "execution_count": 7,
   "metadata": {},
   "outputs": [
    {
     "data": {
      "text/plain": [
       "array([[0.08581368],\n",
       "       [0.09701243],\n",
       "       [0.09433366],\n",
       "       ...,\n",
       "       [0.95725128],\n",
       "       [0.93796041],\n",
       "       [0.93688146]])"
      ]
     },
     "execution_count": 7,
     "metadata": {},
     "output_type": "execute_result"
    }
   ],
   "source": [
    "training_set_scaled"
   ]
  },
  {
   "cell_type": "code",
   "execution_count": 8,
   "metadata": {},
   "outputs": [],
   "source": [
    "X_train = []\n",
    "y_train = []\n",
    "\n",
    "for i in range(60, 1258):\n",
    "    X_train.append(training_set_scaled[i-60:i, 0])\n",
    "    y_train.append(training_set_scaled[i,0])\n",
    "    "
   ]
  },
  {
   "cell_type": "code",
   "execution_count": 9,
   "metadata": {},
   "outputs": [],
   "source": [
    "X_train, y_train = np.array(X_train), np.array(y_train)"
   ]
  },
  {
   "cell_type": "code",
   "execution_count": 10,
   "metadata": {},
   "outputs": [],
   "source": [
    "# Reshaping\n",
    "# batch size, time step, and new dimension(new indicator)\n",
    "# able to add more dimensions to include other indicators such as other companys' stock\n",
    "X_train = np.reshape(X_train, (X_train.shape[0], X_train.shape[1], 1))\n"
   ]
  },
  {
   "cell_type": "code",
   "execution_count": 11,
   "metadata": {
    "scrolled": true
   },
   "outputs": [
    {
     "data": {
      "text/plain": [
       "array([[[0.08581368],\n",
       "        [0.09701243],\n",
       "        [0.09433366],\n",
       "        ...,\n",
       "        [0.07846566],\n",
       "        [0.08034452],\n",
       "        [0.08497656]],\n",
       "\n",
       "       [[0.09701243],\n",
       "        [0.09433366],\n",
       "        [0.09156187],\n",
       "        ...,\n",
       "        [0.08034452],\n",
       "        [0.08497656],\n",
       "        [0.08627874]],\n",
       "\n",
       "       [[0.09433366],\n",
       "        [0.09156187],\n",
       "        [0.07984225],\n",
       "        ...,\n",
       "        [0.08497656],\n",
       "        [0.08627874],\n",
       "        [0.08471612]],\n",
       "\n",
       "       ...,\n",
       "\n",
       "       [[0.92106928],\n",
       "        [0.92438053],\n",
       "        [0.93048218],\n",
       "        ...,\n",
       "        [0.95475854],\n",
       "        [0.95204256],\n",
       "        [0.95163331]],\n",
       "\n",
       "       [[0.92438053],\n",
       "        [0.93048218],\n",
       "        [0.9299055 ],\n",
       "        ...,\n",
       "        [0.95204256],\n",
       "        [0.95163331],\n",
       "        [0.95725128]],\n",
       "\n",
       "       [[0.93048218],\n",
       "        [0.9299055 ],\n",
       "        [0.93113327],\n",
       "        ...,\n",
       "        [0.95163331],\n",
       "        [0.95725128],\n",
       "        [0.93796041]]])"
      ]
     },
     "execution_count": 11,
     "metadata": {},
     "output_type": "execute_result"
    }
   ],
   "source": [
    "X_train"
   ]
  },
  {
   "cell_type": "code",
   "execution_count": 12,
   "metadata": {},
   "outputs": [],
   "source": [
    "### Build the RNN\n",
    "from tensorflow.keras.models import Sequential\n",
    "from tensorflow.keras.layers import Dense\n",
    "from tensorflow.keras.layers import LSTM\n",
    "from tensorflow.keras.layers import Dropout"
   ]
  },
  {
   "cell_type": "code",
   "execution_count": 13,
   "metadata": {},
   "outputs": [],
   "source": [
    "# Initialize the RNN\n",
    "regressor = tf.keras.models.Sequential()"
   ]
  },
  {
   "cell_type": "code",
   "execution_count": 14,
   "metadata": {},
   "outputs": [],
   "source": [
    "# Add the first LSTM layer and some Dropout regularization\n",
    "regressor.add(LSTM(units = 50, return_sequences = True, input_shape = (X_train.shape[1], 1)))\n",
    "regressor.add(Dropout(0.2))"
   ]
  },
  {
   "cell_type": "code",
   "execution_count": 15,
   "metadata": {},
   "outputs": [],
   "source": [
    "# Add the second LSTM layer and some Dropout regularization\n",
    "regressor.add(LSTM(units = 50, return_sequences = True))\n",
    "regressor.add(Dropout(0.2))"
   ]
  },
  {
   "cell_type": "code",
   "execution_count": 16,
   "metadata": {},
   "outputs": [],
   "source": [
    "# Add the third LSTM layer and some Dropout regularization\n",
    "regressor.add(LSTM(units = 50, return_sequences = True))\n",
    "regressor.add(Dropout(0.2))"
   ]
  },
  {
   "cell_type": "code",
   "execution_count": 17,
   "metadata": {},
   "outputs": [],
   "source": [
    "# Add the fourth LSTM layer and some Dropout regularization\n",
    "regressor.add(LSTM(units = 50))\n",
    "regressor.add(Dropout(0.2))"
   ]
  },
  {
   "cell_type": "code",
   "execution_count": 18,
   "metadata": {},
   "outputs": [],
   "source": [
    "# Add the output layer\n",
    "regressor.add(Dense(units = 1))"
   ]
  },
  {
   "cell_type": "code",
   "execution_count": 19,
   "metadata": {},
   "outputs": [],
   "source": [
    "regressor.compile(optimizer = 'adam', loss = 'mean_squared_error')"
   ]
  },
  {
   "cell_type": "code",
   "execution_count": 20,
   "metadata": {},
   "outputs": [
    {
     "name": "stdout",
     "output_type": "stream",
     "text": [
      "Epoch 1/100\n",
      "38/38 [==============================] - 12s 119ms/step - loss: 0.0459\n",
      "Epoch 2/100\n",
      "38/38 [==============================] - 5s 124ms/step - loss: 0.0059\n",
      "Epoch 3/100\n",
      "38/38 [==============================] - 5s 134ms/step - loss: 0.0054\n",
      "Epoch 4/100\n",
      "38/38 [==============================] - 4s 106ms/step - loss: 0.0053\n",
      "Epoch 5/100\n",
      "38/38 [==============================] - 4s 107ms/step - loss: 0.0049\n",
      "Epoch 6/100\n",
      "38/38 [==============================] - 4s 114ms/step - loss: 0.0056\n",
      "Epoch 7/100\n",
      "38/38 [==============================] - 4s 110ms/step - loss: 0.0048\n",
      "Epoch 8/100\n",
      "38/38 [==============================] - 4s 106ms/step - loss: 0.0042\n",
      "Epoch 9/100\n",
      "38/38 [==============================] - 4s 106ms/step - loss: 0.0044\n",
      "Epoch 10/100\n",
      "38/38 [==============================] - 4s 116ms/step - loss: 0.0041\n",
      "Epoch 11/100\n",
      "38/38 [==============================] - 4s 108ms/step - loss: 0.0045\n",
      "Epoch 12/100\n",
      "38/38 [==============================] - 4s 107ms/step - loss: 0.0038\n",
      "Epoch 13/100\n",
      "38/38 [==============================] - 4s 109ms/step - loss: 0.0039\n",
      "Epoch 14/100\n",
      "38/38 [==============================] - 4s 115ms/step - loss: 0.0035\n",
      "Epoch 15/100\n",
      "38/38 [==============================] - 4s 106ms/step - loss: 0.0042\n",
      "Epoch 16/100\n",
      "38/38 [==============================] - 4s 106ms/step - loss: 0.0044\n",
      "Epoch 17/100\n",
      "38/38 [==============================] - 4s 108ms/step - loss: 0.0039\n",
      "Epoch 18/100\n",
      "38/38 [==============================] - 4s 115ms/step - loss: 0.0033\n",
      "Epoch 19/100\n",
      "38/38 [==============================] - 4s 116ms/step - loss: 0.0033\n",
      "Epoch 20/100\n",
      "38/38 [==============================] - 5s 133ms/step - loss: 0.0036\n",
      "Epoch 21/100\n",
      "38/38 [==============================] - 5s 140ms/step - loss: 0.0031\n",
      "Epoch 22/100\n",
      "38/38 [==============================] - 5s 136ms/step - loss: 0.0033\n",
      "Epoch 23/100\n",
      "38/38 [==============================] - 4s 106ms/step - loss: 0.0030\n",
      "Epoch 24/100\n",
      "38/38 [==============================] - 4s 109ms/step - loss: 0.0034\n",
      "Epoch 25/100\n",
      "38/38 [==============================] - 4s 113ms/step - loss: 0.0031\n",
      "Epoch 26/100\n",
      "38/38 [==============================] - 5s 119ms/step - loss: 0.0035\n",
      "Epoch 27/100\n",
      "38/38 [==============================] - 5s 127ms/step - loss: 0.0029\n",
      "Epoch 28/100\n",
      "38/38 [==============================] - 4s 117ms/step - loss: 0.0032\n",
      "Epoch 29/100\n",
      "38/38 [==============================] - 5s 137ms/step - loss: 0.0034\n",
      "Epoch 30/100\n",
      "38/38 [==============================] - 4s 114ms/step - loss: 0.0030\n",
      "Epoch 31/100\n",
      "38/38 [==============================] - 4s 114ms/step - loss: 0.0029\n",
      "Epoch 32/100\n",
      "38/38 [==============================] - 5s 119ms/step - loss: 0.0027\n",
      "Epoch 33/100\n",
      "38/38 [==============================] - 5s 141ms/step - loss: 0.0030\n",
      "Epoch 34/100\n",
      "38/38 [==============================] - 5s 121ms/step - loss: 0.0027\n",
      "Epoch 35/100\n",
      "38/38 [==============================] - 6s 149ms/step - loss: 0.0029\n",
      "Epoch 36/100\n",
      "38/38 [==============================] - 4s 112ms/step - loss: 0.0033\n",
      "Epoch 37/100\n",
      "38/38 [==============================] - 4s 107ms/step - loss: 0.0027\n",
      "Epoch 38/100\n",
      "38/38 [==============================] - 5s 133ms/step - loss: 0.0026 1s \n",
      "Epoch 39/100\n",
      "38/38 [==============================] - 5s 139ms/step - loss: 0.0024\n",
      "Epoch 40/100\n",
      "38/38 [==============================] - 5s 119ms/step - loss: 0.0025\n",
      "Epoch 41/100\n",
      "38/38 [==============================] - 5s 125ms/step - loss: 0.0027\n",
      "Epoch 42/100\n",
      "38/38 [==============================] - 5s 141ms/step - loss: 0.0026\n",
      "Epoch 43/100\n",
      "38/38 [==============================] - 5s 134ms/step - loss: 0.0023\n",
      "Epoch 44/100\n",
      "38/38 [==============================] - 4s 115ms/step - loss: 0.0024\n",
      "Epoch 45/100\n",
      "38/38 [==============================] - 5s 134ms/step - loss: 0.0024\n",
      "Epoch 46/100\n",
      "38/38 [==============================] - 5s 129ms/step - loss: 0.0022\n",
      "Epoch 47/100\n",
      "38/38 [==============================] - 5s 143ms/step - loss: 0.0024\n",
      "Epoch 48/100\n",
      "38/38 [==============================] - 5s 122ms/step - loss: 0.0024\n",
      "Epoch 49/100\n",
      "38/38 [==============================] - 4s 116ms/step - loss: 0.0025\n",
      "Epoch 50/100\n",
      "38/38 [==============================] - 4s 107ms/step - loss: 0.0022\n",
      "Epoch 51/100\n",
      "38/38 [==============================] - 4s 113ms/step - loss: 0.0022\n",
      "Epoch 52/100\n",
      "38/38 [==============================] - 4s 115ms/step - loss: 0.0023\n",
      "Epoch 53/100\n",
      "38/38 [==============================] - 4s 108ms/step - loss: 0.0024\n",
      "Epoch 54/100\n",
      "38/38 [==============================] - 4s 109ms/step - loss: 0.0023\n",
      "Epoch 55/100\n",
      "38/38 [==============================] - 4s 115ms/step - loss: 0.0022\n",
      "Epoch 56/100\n",
      "38/38 [==============================] - 4s 114ms/step - loss: 0.0021\n",
      "Epoch 57/100\n",
      "38/38 [==============================] - 4s 117ms/step - loss: 0.0024\n",
      "Epoch 58/100\n",
      "38/38 [==============================] - 4s 112ms/step - loss: 0.0021\n",
      "Epoch 59/100\n",
      "38/38 [==============================] - 5s 127ms/step - loss: 0.0022\n",
      "Epoch 60/100\n",
      "38/38 [==============================] - 5s 124ms/step - loss: 0.0023\n",
      "Epoch 61/100\n",
      "38/38 [==============================] - 5s 128ms/step - loss: 0.0020\n",
      "Epoch 62/100\n",
      "38/38 [==============================] - 5s 130ms/step - loss: 0.0020\n",
      "Epoch 63/100\n",
      "38/38 [==============================] - 5s 122ms/step - loss: 0.0019\n",
      "Epoch 64/100\n",
      "38/38 [==============================] - 4s 113ms/step - loss: 0.0021\n",
      "Epoch 65/100\n",
      "38/38 [==============================] - 4s 105ms/step - loss: 0.0022\n",
      "Epoch 66/100\n",
      "38/38 [==============================] - 5s 122ms/step - loss: 0.0018\n",
      "Epoch 67/100\n",
      "38/38 [==============================] - 5s 119ms/step - loss: 0.0020\n",
      "Epoch 68/100\n",
      "38/38 [==============================] - 6s 146ms/step - loss: 0.0018\n",
      "Epoch 69/100\n",
      "38/38 [==============================] - 5s 136ms/step - loss: 0.0019\n",
      "Epoch 70/100\n",
      "38/38 [==============================] - 5s 131ms/step - loss: 0.0018\n",
      "Epoch 71/100\n",
      "38/38 [==============================] - 5s 138ms/step - loss: 0.0020\n",
      "Epoch 72/100\n",
      "38/38 [==============================] - 5s 128ms/step - loss: 0.0020\n",
      "Epoch 73/100\n",
      "38/38 [==============================] - 6s 148ms/step - loss: 0.0021\n",
      "Epoch 74/100\n",
      "38/38 [==============================] - 5s 118ms/step - loss: 0.0020\n",
      "Epoch 75/100\n",
      "38/38 [==============================] - 4s 113ms/step - loss: 0.0017\n",
      "Epoch 76/100\n",
      "38/38 [==============================] - 6s 148ms/step - loss: 0.0018\n",
      "Epoch 77/100\n",
      "38/38 [==============================] - 6s 156ms/step - loss: 0.0015\n",
      "Epoch 78/100\n",
      "38/38 [==============================] - 5s 127ms/step - loss: 0.0018\n",
      "Epoch 79/100\n",
      "38/38 [==============================] - 6s 148ms/step - loss: 0.0016\n",
      "Epoch 80/100\n",
      "38/38 [==============================] - 5s 137ms/step - loss: 0.0016\n",
      "Epoch 81/100\n",
      "38/38 [==============================] - 4s 107ms/step - loss: 0.0016\n",
      "Epoch 82/100\n",
      "38/38 [==============================] - 5s 131ms/step - loss: 0.0017\n",
      "Epoch 83/100\n",
      "38/38 [==============================] - 5s 124ms/step - loss: 0.0017\n",
      "Epoch 84/100\n",
      "38/38 [==============================] - 5s 131ms/step - loss: 0.0015\n",
      "Epoch 85/100\n",
      "38/38 [==============================] - 5s 122ms/step - loss: 0.0015\n",
      "Epoch 86/100\n",
      "38/38 [==============================] - 6s 146ms/step - loss: 0.0015\n",
      "Epoch 87/100\n",
      "38/38 [==============================] - 5s 127ms/step - loss: 0.0015\n",
      "Epoch 88/100\n",
      "38/38 [==============================] - 6s 167ms/step - loss: 0.0016\n",
      "Epoch 89/100\n",
      "38/38 [==============================] - 6s 150ms/step - loss: 0.0017\n",
      "Epoch 90/100\n",
      "38/38 [==============================] - 5s 131ms/step - loss: 0.0014\n",
      "Epoch 91/100\n",
      "38/38 [==============================] - 7s 177ms/step - loss: 0.0015\n",
      "Epoch 92/100\n",
      "38/38 [==============================] - 6s 147ms/step - loss: 0.0015\n",
      "Epoch 93/100\n",
      "38/38 [==============================] - 5s 129ms/step - loss: 0.0016\n",
      "Epoch 94/100\n",
      "38/38 [==============================] - 6s 163ms/step - loss: 0.0016\n",
      "Epoch 95/100\n",
      "38/38 [==============================] - 4s 114ms/step - loss: 0.0015\n",
      "Epoch 96/100\n",
      "38/38 [==============================] - 5s 123ms/step - loss: 0.0014\n",
      "Epoch 97/100\n",
      "38/38 [==============================] - 5s 140ms/step - loss: 0.0014\n",
      "Epoch 98/100\n",
      "38/38 [==============================] - 4s 116ms/step - loss: 0.0015\n",
      "Epoch 99/100\n"
     ]
    },
    {
     "name": "stdout",
     "output_type": "stream",
     "text": [
      "38/38 [==============================] - 5s 119ms/step - loss: 0.0014\n",
      "Epoch 100/100\n",
      "38/38 [==============================] - 4s 117ms/step - loss: 0.0014\n"
     ]
    },
    {
     "data": {
      "text/plain": [
       "<keras.callbacks.History at 0x14ac1686490>"
      ]
     },
     "execution_count": 20,
     "metadata": {},
     "output_type": "execute_result"
    }
   ],
   "source": [
    "regressor.fit(X_train, y_train, epochs = 100, batch_size = 32)"
   ]
  },
  {
   "cell_type": "code",
   "execution_count": 21,
   "metadata": {},
   "outputs": [],
   "source": [
    "# Getting the real stock price of 2017\n",
    "dataset_test = pd.read_csv('Google_Stock_Price_Test.csv')\n",
    "real_stock_price = dataset_test.iloc[:, 1:2].values"
   ]
  },
  {
   "cell_type": "code",
   "execution_count": 22,
   "metadata": {},
   "outputs": [
    {
     "data": {
      "text/plain": [
       "array([[779.20026],\n",
       "       [776.4633 ],\n",
       "       [777.0523 ],\n",
       "       [778.404  ],\n",
       "       [781.80817],\n",
       "       [787.7666 ],\n",
       "       [792.8238 ],\n",
       "       [794.55786],\n",
       "       [794.7892 ],\n",
       "       [794.5767 ],\n",
       "       [794.374  ],\n",
       "       [794.1448 ],\n",
       "       [794.02496],\n",
       "       [794.6733 ],\n",
       "       [795.6541 ],\n",
       "       [800.57666],\n",
       "       [807.3947 ],\n",
       "       [814.4741 ],\n",
       "       [817.8564 ],\n",
       "       [812.92676]], dtype=float32)"
      ]
     },
     "execution_count": 22,
     "metadata": {},
     "output_type": "execute_result"
    }
   ],
   "source": [
    "# Getting the predicted stock price of 2017\n",
    "dataset_total = pd.concat((dataset_train['Open'], dataset_test['Open']), axis = 0)\n",
    "inputs = dataset_total[len(dataset_total) - len(dataset_test) - 60:].values\n",
    "# reshape(1,-1) means 1 row and unknown number of columns that the numpy will figure out\n",
    "# ex) z.shape = (3,4) and z.reshape(1,-1) gives (1,12) 'Flattening the Dataframe'\n",
    "\n",
    "inputs = inputs.reshape(-1,1)\n",
    "# Scale the inputs\n",
    "inputs = sc.transform(inputs)\n",
    "\n",
    "X_test = []\n",
    "\n",
    "for i in range(60, 80):\n",
    "    X_test.append(inputs[i-60:i, 0])\n",
    "X_test = np.array(X_test)\n",
    "\n",
    "X_test = np.reshape(X_test, (X_test.shape[0], X_test.shape[1], 1))\n",
    "\n",
    "predicted_stock_price = regressor.predict(X_test)\n",
    "predicted_stock_price = sc.inverse_transform(predicted_stock_price)\n",
    "predicted_stock_price"
   ]
  },
  {
   "cell_type": "code",
   "execution_count": 23,
   "metadata": {},
   "outputs": [
    {
     "data": {
      "text/plain": [
       "<module 'matplotlib.pyplot' from 'C:\\\\Users\\\\ABC\\\\anaconda3\\\\lib\\\\site-packages\\\\matplotlib\\\\pyplot.py'>"
      ]
     },
     "execution_count": 23,
     "metadata": {},
     "output_type": "execute_result"
    },
    {
     "data": {
      "image/png": "[encoded data removed]",
      "text/plain": [
       "<Figure size 432x288 with 1 Axes>"
      ]
     },
     "metadata": {
      "needs_background": "light"
     },
     "output_type": "display_data"
    }
   ],
   "source": [
    "# Visualising the results\n",
    "\n",
    "plt.plot(real_stock_price, color = 'red', label = 'Real Google Stock Price')\n",
    "plt.plot(predicted_stock_price, color = 'blue', label = 'Predicted Google Stock Price')\n",
    "plt.title('Google Stock Price Prediction')\n",
    "plt.xlabel('Time')\n",
    "plt.ylabel('Google Stock Price')\n",
    "plt.legend()\n",
    "plt"
   ]
  },
  {
   "cell_type": "code",
   "execution_count": null,
   "metadata": {},
   "outputs": [],
   "source": [
    "# Note that we didn't use RMSE for the model (regression) performance because we care more about the trend, not the error\n",
    "# If you want to use the RMSE, use the relative error, rather than the absolute error \n",
    "# by dividing RMSE by the range of the Stock Price Values (around 800)\n",
    "# because RMSE of 50 is larger when value is 100 than 10000.\n"
   ]
  },
  {
   "cell_type": "code",
   "execution_count": null,
   "metadata": {},
   "outputs": [],
   "source": [
    "##### Try adding extra dimensions ######"
   ]
  },
  {
   "cell_type": "code",
   "execution_count": null,
   "metadata": {},
   "outputs": [],
   "source": []
  },
  {
   "cell_type": "code",
   "execution_count": null,
   "metadata": {},
   "outputs": [],
   "source": []
  },
  {
   "cell_type": "code",
   "execution_count": null,
   "metadata": {},
   "outputs": [],
   "source": []
  },
  {
   "cell_type": "code",
   "execution_count": null,
   "metadata": {},
   "outputs": [],
   "source": []
  }
 ],
 "metadata": {
  "kernelspec": {
   "display_name": "Python 3",
   "language": "python",
   "name": "python3"
  },
  "language_info": {
   "codemirror_mode": {
    "name": "ipython",
    "version": 3
   },
   "file_extension": ".py",
   "mimetype": "text/x-python",
   "name": "python",
   "nbconvert_exporter": "python",
   "pygments_lexer": "ipython3",
   "version": "3.8.5"
  }
 },
 "nbformat": 4,
 "nbformat_minor": 5
}
